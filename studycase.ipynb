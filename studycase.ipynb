{
 "cells": [
  {
   "cell_type": "code",
   "execution_count": null,
   "metadata": {},
   "outputs": [],
   "source": [
    "import requests\n",
    "url = 'http://www.thesportsdb.com/api/v1/json/1/searchplayers.php?p='\n",
    "nama = input('Ketik Nama Pemain : ')\n",
    "data = requests.get(url + nama)\n",
    "\n",
    "if data.status_code == 200:\n",
    "    hasil = data.json()\n",
    "    print(hasil['player'][0]['strTeam'])\n",
    "else:\n",
    "    print('Request gagal')"
   ]
  },
  {
   "cell_type": "code",
   "execution_count": null,
   "metadata": {},
   "outputs": [],
   "source": [
    "import requests\n",
    "kode = input('Masukan Kode bank : ').lower()\n",
    "x = int(input('1.USD to IDR\\n2.IDR to USD\\nPilih (1/2) : ' ))\n",
    "url = 'https://kurs.web.id/api/v1/'\n",
    "data = requests.get(url + kode)\n",
    "if data.status_code == 200:\n",
    "    hasil = data.json()\n",
    "    if x == 1:\n",
    "        usd = int(input('Masukan Jumlah USD yang akan dikonversi : '))\n",
    "        hasilusd = int(hasil['beli'])*usd\n",
    "        print(usd, 'USD adalah', hasilusd, 'Rupiah')\n",
    "    elif x ==2:\n",
    "        idr = int(input('Masukan Jumlah IDR yang akan dikonversi : '))\n",
    "        hasilidr = int(hasil['jual'])*idr\n",
    "        print(idr, 'IDR adalah', hasilidr, 'US Dollar' )\n",
    "    else:\n",
    "        print('Tidak Tersedia')\n",
    "else:\n",
    "    print('Request anda gagal')"
   ]
  },
  {
   "cell_type": "code",
   "execution_count": null,
   "metadata": {},
   "outputs": [],
   "source": [
    "# 5b1ba1386b11a8d77f6978db9c575140 => api keys untuk web openweathermap\n",
    "\n",
    "# import requests\n",
    "# kota = input('Masukan Nama Kota : ')\n",
    "# apikey = '5b1ba1386b11a8d77f6978db9c575140'\n",
    "# url = f'https://api.openweathermap.org/data/2.5/weather?q={kota}&appid={apikey}'\n",
    "# data = requests.get(url)\n",
    "# print(data.json())"
   ]
  },
  {
   "cell_type": "markdown",
   "metadata": {},
   "source": [
    "### _HOW TO INPUT APIKEY IF CANT INPUT IT AT URL_"
   ]
  },
  {
   "cell_type": "code",
   "execution_count": null,
   "metadata": {},
   "outputs": [],
   "source": [
    "# 22423eb064efa1a208a8411c75a45195 => api keys untuk web zomato\n",
    "# cara memasukan apikey pada header bukan di urlnya\n",
    "\n",
    "import requests\n",
    "apikey = '22423eb064efa1a208a8411c75a45195'\n",
    "headers = {'user-key': apikey}\n",
    "url = 'https://developers.zomato.com/api/v2.1/search?entity_id=74&entity_type=city&q='\n",
    "cari = input('Mau Makan Apa? ')\n",
    "\n",
    "data = requests.get(url + cari, headers=headers)\n",
    "resto = data.json()['restaurants']\n",
    "# print(resto[0])\n",
    "# print(resto[0]['restaurant']['name'])\n",
    "# print(resto[0]['restaurant']['location']['address'])\n",
    "\n",
    "for i in resto:\n",
    "    print(\n",
    "        i['restaurant']['name'], ':',\n",
    "        i['restaurant']['location']['address']\n",
    "    )"
   ]
  }
 ],
 "metadata": {
  "kernelspec": {
   "display_name": "Python 3",
   "language": "python",
   "name": "python3"
  },
  "language_info": {
   "codemirror_mode": {
    "name": "ipython",
    "version": 3
   },
   "file_extension": ".py",
   "mimetype": "text/x-python",
   "name": "python",
   "nbconvert_exporter": "python",
   "pygments_lexer": "ipython3",
   "version": "3.8.1"
  }
 },
 "nbformat": 4,
 "nbformat_minor": 4
}
