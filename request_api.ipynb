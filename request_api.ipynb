{
 "cells": [
  {
   "cell_type": "markdown",
   "metadata": {},
   "source": [
    "# __API__\n",
    "<HR>\n",
    "<HR>"
   ]
  },
  {
   "cell_type": "markdown",
   "metadata": {},
   "source": [
    "##### Requesting API => Back End Server => DATABASE"
   ]
  },
  {
   "cell_type": "markdown",
   "metadata": {},
   "source": [
    "##### py -m pip install request"
   ]
  },
  {
   "cell_type": "code",
   "execution_count": null,
   "metadata": {},
   "outputs": [],
   "source": [
    "import requests"
   ]
  },
  {
   "cell_type": "code",
   "execution_count": null,
   "metadata": {},
   "outputs": [],
   "source": [
    "# url = 'https://jsonplaceholder.typicode.com/users'\n",
    "# data = requests.get(url)\n",
    "# print(data)\n",
    "# hasil = data.json()\n",
    "# print(hasil)\n",
    "# print(hasil[0])\n",
    "# print(hasil[0]['name'])\n",
    "\n",
    "# for i in hasil:\n",
    "#     print(i)\n",
    "#     print(i['name'])"
   ]
  },
  {
   "cell_type": "code",
   "execution_count": null,
   "metadata": {},
   "outputs": [],
   "source": [
    "# import requests\n",
    "# import json\n",
    "# url = 'https://jsonplaceholder.typicode.com/users'\n",
    "# data = requests.get(url)\n",
    "# if data.status_code == 200:\n",
    "#     hasil = data.json()\n",
    "# else:\n",
    "#     print('Request tidak sukses')\n",
    "\n",
    "# with open('1.json', 'w') as x:\n",
    "#     json.dump(hasil, x)"
   ]
  }
 ],
 "metadata": {
  "kernelspec": {
   "display_name": "Python 3",
   "language": "python",
   "name": "python3"
  },
  "language_info": {
   "codemirror_mode": {
    "name": "ipython",
    "version": 3
   },
   "file_extension": ".py",
   "mimetype": "text/x-python",
   "name": "python",
   "nbconvert_exporter": "python",
   "pygments_lexer": "ipython3",
   "version": "3.8.1"
  }
 },
 "nbformat": 4,
 "nbformat_minor": 4
}
